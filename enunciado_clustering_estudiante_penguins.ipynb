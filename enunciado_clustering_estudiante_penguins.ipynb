{
  "cells": [
    {
      "cell_type": "markdown",
      "id": "0f3e8f3c",
      "metadata": {},
      "source": [
        "# Comparativa de Clustering: K-Means, DBSCAN y Jerárquico\n",
        "\n",
        "**Objetivo:** comparar tres métodos de clustering en un dataset real y elegir **el mejor** según el **coeficiente de silueta** (y **Elbow** solo para K-Means).\n",
        "\n",
        "**Dataset elegido:** **Palmer Penguins** (medidas de pingüinos) — datos libres y fáciles de obtener.\n",
        "\n",
        "- Página del proyecto: <https://allisonhorst.github.io/palmerpenguins/>\n",
        "- CSV directo (penguins_clean): <https://raw.githubusercontent.com/allisonhorst/palmerpenguins/master/inst/extdata/penguins_clean.csv>\n",
        "\n",
        "> Nota: **NO uses la columna de especie** (`species`) para entrenar (clustering es no supervisado). Se puede usr más tarde sólo para **interpretación** si lo deseas, pero **nunca** para ajustar los modelos.\n"
      ]
    },
    {
      "cell_type": "markdown",
      "id": "a520759d",
      "metadata": {},
      "source": [
        "## Requisitos\n",
        "- Trabajar siempre con **variables numéricas** y **datos escalados**.\n",
        "- Evaluación:\n",
        "  - **K-Means:** curva **Elbow** (inercia) para k=2..10 + **Silhouette** para k=2..10.\n",
        "  - **DBSCAN:** probar varias combinaciones de `eps` y `min_samples`; reportar **Silhouette**, nº de clústeres (excl. ruido) y % ruido.\n",
        "  - **Jerárquico:** probar `linkage` en {`ward`, `complete`, `average`} y k=2..10; reportar **Silhouette**.\n",
        "- Conclusión final: elige método y configuración (parámetros) y justifica **en 8–12 líneas**.\n",
        "\n",
        "**Importante (API de scikit-learn):**\n",
        "- `KMeans` **sí** tiene `.predict(X)` para etiquetar nuevos puntos.\n",
        "- `DBSCAN` y `AgglomerativeClustering` **no** tienen `.predict`. Usa `fit_predict(X)` y el atributo `.labels_` tras el ajuste.\n"
      ]
    },
    {
      "cell_type": "markdown",
      "id": "56b4c92e",
      "metadata": {},
      "source": [
        "## 0) Preparación del entorno\n",
        "- Necesitas tener instalado `pandas`, `numpy`, `scikit-learn`, `matplotlib`.\n",
        "- Fija `random_state=42` (u otro) cuando aplique para reproducibilidad.\n"
      ]
    },
    {
      "cell_type": "code",
      "execution_count": 4,
      "id": "9c569571",
      "metadata": {},
      "outputs": [],
      "source": [
        "random_state = 777\n",
        "import numpy as np\n",
        "import pandas as pd\n",
        "import matplotlib.pyplot as plt\n",
        "url = \"https://raw.githubusercontent.com/mwaskom/seaborn-data/master/penguins.csv\""
      ]
    },
    {
      "cell_type": "markdown",
      "id": "bb7aae59",
      "metadata": {},
      "source": [
        "## 1) Descarga y carga de datos\n",
        "1. Descarga el CSV desde la URL indicada.\n",
        "2. Cárgalo en un `DataFrame`.\n",
        "3. Inspecciona forma, nombres de columnas y tipos.\n",
        "4. Identifica columnas **numéricas** que usarás como `X` (excluye `species` y otras no numéricas).\n"
      ]
    },
    {
      "cell_type": "code",
      "execution_count": 33,
      "id": "b8824409",
      "metadata": {
        "tags": [
          "student-cell"
        ]
      },
      "outputs": [
        {
          "name": "stdout",
          "output_type": "stream",
          "text": [
            "  species  bill_length_mm  bill_depth_mm  flipper_length_mm  body_mass_g  \\\n",
            "0  Adelie            39.1           18.7              181.0       3750.0   \n",
            "1  Adelie            39.5           17.4              186.0       3800.0   \n",
            "2  Adelie            40.3           18.0              195.0       3250.0   \n",
            "4  Adelie            36.7           19.3              193.0       3450.0   \n",
            "5  Adelie            39.3           20.6              190.0       3650.0   \n",
            "\n",
            "   island_Dream  island_Torgersen  sex_MALE  \n",
            "0         False              True      True  \n",
            "1         False              True     False  \n",
            "2         False              True     False  \n",
            "4         False              True     False  \n",
            "5         False              True      True  \n",
            "<class 'pandas.core.frame.DataFrame'>\n",
            "Index: 333 entries, 0 to 343\n",
            "Data columns (total 8 columns):\n",
            " #   Column             Non-Null Count  Dtype  \n",
            "---  ------             --------------  -----  \n",
            " 0   species            333 non-null    object \n",
            " 1   bill_length_mm     333 non-null    float64\n",
            " 2   bill_depth_mm      333 non-null    float64\n",
            " 3   flipper_length_mm  333 non-null    float64\n",
            " 4   body_mass_g        333 non-null    float64\n",
            " 5   island_Dream       333 non-null    bool   \n",
            " 6   island_Torgersen   333 non-null    bool   \n",
            " 7   sex_MALE           333 non-null    bool   \n",
            "dtypes: bool(3), float64(4), object(1)\n",
            "memory usage: 16.6+ KB\n",
            "None\n",
            "       bill_length_mm  bill_depth_mm  flipper_length_mm  body_mass_g\n",
            "count      333.000000     333.000000         333.000000   333.000000\n",
            "mean        43.992793      17.164865         200.966967  4207.057057\n",
            "std          5.468668       1.969235          14.015765   805.215802\n",
            "min         32.100000      13.100000         172.000000  2700.000000\n",
            "25%         39.500000      15.600000         190.000000  3550.000000\n",
            "50%         44.500000      17.300000         197.000000  4050.000000\n",
            "75%         48.600000      18.700000         213.000000  4775.000000\n",
            "max         59.600000      21.500000         231.000000  6300.000000\n",
            "Datos numericos (X) and especie/target (y):\n",
            "   bill_length_mm  bill_depth_mm  flipper_length_mm  body_mass_g\n",
            "0            39.1           18.7              181.0       3750.0\n",
            "1            39.5           17.4              186.0       3800.0\n",
            "2            40.3           18.0              195.0       3250.0\n",
            "4            36.7           19.3              193.0       3450.0\n",
            "5            39.3           20.6              190.0       3650.0\n",
            "   island_Dream  island_Torgersen  sex_MALE\n",
            "0             0                 1         1\n",
            "1             0                 1         0\n",
            "2             0                 1         0\n",
            "4             0                 1         0\n",
            "5             0                 1         1\n",
            "0    Adelie\n",
            "1    Adelie\n",
            "2    Adelie\n",
            "4    Adelie\n",
            "5    Adelie\n",
            "Name: species, dtype: object\n"
          ]
        }
      ],
      "source": [
        "df = pd.read_csv(url)\n",
        "df = df.dropna()\n",
        "df = df.drop_duplicates()\n",
        "\n",
        "df_sincat = pd.get_dummies(df, columns=['island', 'sex'], drop_first=True)\n",
        "\n",
        "print(df_sincat.head())\n",
        "print(df_sincat.info())\n",
        "print(df.describe())\n",
        "\n",
        "X_numericas = df_sincat.select_dtypes(include=[np.number]).copy()\n",
        "X_onehot = df_sincat[['island_Dream', 'island_Torgersen', 'sex_MALE']].astype(int).copy()\n",
        "y = df['species'].copy()\n",
        "\n",
        "\n",
        "print(\"Datos numericos (X) and especie/target (y):\")\n",
        "print(X_numericas.head())\n",
        "print(X_onehot.head())\n",
        "print(y.head())\n",
        "\n"
      ]
    },
    {
      "cell_type": "markdown",
      "id": "a3762b8c",
      "metadata": {},
      "source": [
        "## 2) Limpieza mínima y normalización\n",
        "1. Elimina duplicados y filas con nulos en las columnas numéricas escogidas.\n",
        "2. **Estandariza** (`StandardScaler`) para tener media 0 y varianza 1.\n",
        "3. Guarda el array escalado como `X_scaled` (será tu base para todos los modelos).\n",
        "\n",
        "> **Por qué escalamos:** Todas las distancias (Euclídeas) y medidas de densidad de los modelos dependen de la escala; mezclar variables en escalas distintas sesga los resultados.\n"
      ]
    },
    {
      "cell_type": "code",
      "execution_count": 36,
      "id": "b6e53543",
      "metadata": {
        "tags": [
          "student-cell"
        ]
      },
      "outputs": [
        {
          "name": "stdout",
          "output_type": "stream",
          "text": [
            "(333, 4) -> (333, 4)\n"
          ]
        }
      ],
      "source": [
        "from sklearn.preprocessing import StandardScaler\n",
        "\n",
        "\n",
        "scaler = StandardScaler()\n",
        "X_scaled = scaler.fit_transform(X_numericas)\n",
        "print(X_numericas.shape, '->', X_scaled.shape)\n",
        "\n",
        "X_final = np.hstack((X_scaled, X_onehot.values))"
      ]
    },
    {
      "cell_type": "markdown",
      "id": "31447b83",
      "metadata": {},
      "source": [
        "## 3) K-Means\n",
        "**Objetivo:**\n",
        "- Bucle `k` en 2..10.\n",
        "- Guardar por cada `k`: **inercia** (suma de distancias al centroide) y **Silhouette**.\n",
        "- Seleccionar `k` final apoyándote en **Elbow** + **Silhouette**.\n",
        "\n",
        "**Indicaciones específicas:**\n",
        "- Usa `KMeans(n_clusters=k, random_state=42)`.\n",
        "- Tras ajustar, obtén etiquetas con `.labels_` o usando `.predict(X_scaled)`.\n",
        "- Para Silhouette: `sklearn.metrics.silhouette_score(X_scaled, labels)`.\n",
        "- Traza **Inercia vs k** y **Silhouette vs k** (dos gráficos separados). Explica en 2-3 líneas tu elección de `k`.\n"
      ]
    },
    {
      "cell_type": "code",
      "execution_count": 40,
      "id": "1943b918",
      "metadata": {
        "tags": [
          "student-cell"
        ]
      },
      "outputs": [
        {
          "data": {
            "image/png": "[encoded data removed]",
            "text/plain": [
              "<Figure size 1200x500 with 2 Axes>"
            ]
          },
          "metadata": {},
          "output_type": "display_data"
        }
      ],
      "source": [
        "from sklearn.cluster import KMeans\n",
        "from sklearn.metrics import silhouette_score\n",
        "inertias = []\n",
        "silhouettes = []\n",
        "K_range = range(2, 11)\n",
        "\n",
        "for k in K_range:\n",
        "    kmeans= KMeans(n_clusters = k, random_state=random_state)\n",
        "    kmeans.fit(X_final)\n",
        "    labels = kmeans.labels_\n",
        "    inertias.append(kmeans.inertia_)\n",
        "    sil_score = silhouette_score(X_final, labels)\n",
        "    silhouettes.append(sil_score)\n",
        "\n",
        "plt.figure(figsize=(12,5))\n",
        "plt.subplot(1,2,1)\n",
        "plt.plot(K_range, inertias, marker='o')\n",
        "plt.title('Elbow Method (Inertia vs k)')\n",
        "plt.xlabel('Number of clusters k')\n",
        "plt.ylabel('Inertia')\n",
        "plt.subplot(1,2,2)\n",
        "plt.plot(K_range, silhouettes, marker='o', color='orange')\n",
        "plt.title('Silhouette Score vs k')\n",
        "plt.xlabel('Number of clusters k')\n",
        "plt.ylabel('Silhouette Score')\n",
        "plt.show()"
      ]
    },
    {
      "cell_type": "markdown",
      "id": "5f4b6a61",
      "metadata": {},
      "source": [
        "### Para K-Means la mejor cantidad de clusters segun la score de Silhouettees de 2 cluster, podriamos considerar otras opciones viendo las inercias y ya que estamos sesgados por saber el resultado que es 3."
      ]
    },
    {
      "cell_type": "markdown",
      "id": "defe60e4",
      "metadata": {},
      "source": [
        "## 4) DBSCAN\n",
        "**Objetivo:** explorar `eps` y `min_samples` en una rejilla pequeña y comparar resultados.\n",
        "\n",
        "**Indicaciones específicas:**\n",
        "- Probar `eps` en valores razonables (por ejemplo: 0.3, 0.5, 0.7, 0.9) y `min_samples` en {3, 5, 7}.\n",
        "- Para cada combinación: ajusta con `DBSCAN(eps=?, min_samples=?)` sobre `X_scaled`.\n",
        "- Extrae etiquetas con `.labels_`.\n",
        "- Calcula **nº de clústeres** (excluyendo `-1`) y **% de ruido** (`label == -1`).\n",
        "- Calcula **Silhouette** **solo si** hay al menos **2** clústeres válidos (sin contar ruido). Si no, anota \"no aplicable\".\n",
        "- Elige una combinación final y justifica.\n"
      ]
    },
    {
      "cell_type": "code",
      "execution_count": 93,
      "id": "26270368",
      "metadata": {
        "tags": [
          "student-cell"
        ]
      },
      "outputs": [
        {
          "name": "stdout",
          "output_type": "stream",
          "text": [
            "Mejor silhouette DBSCAN: 0.48049391550433956\n",
            "Ruido 0.0\n",
            "N clusters: 2\n",
            "Parametros eps y min_samples: 1.7 7\n"
          ]
        }
      ],
      "source": [
        "# TODO: Grid pequeño de DBSCAN: probar eps y min_samples\n",
        "# TODO: Para cada combinación, registrar #clusters válidos, %ruido y silhouette (si aplica)\n",
        "# TODO: Elegir configuración final; obtener labels_dbscan\n",
        "\n",
        "from sklearn.cluster import DBSCAN\n",
        "\n",
        "silhouette_scores_dbscan = []\n",
        "n_clusters_dbscan = []\n",
        "noise_percentages = []\n",
        "eps_values = np.arange(0.3 , 2.1, 0.2)\n",
        "min_samples_values = [3, 5, 7]\n",
        "\n",
        "mejor_eps = None\n",
        "mejor_min_samples = None\n",
        "mejor_silhouette = -777\n",
        "ruido_del_mejor = None\n",
        "n_cluster_del_mejor = None\n",
        "\n",
        "for eps in eps_values:\n",
        "    for min_samples in min_samples_values:\n",
        "        dbscan = DBSCAN(eps=eps, min_samples=min_samples)\n",
        "        labels_dbscan = dbscan.fit_predict(X_final)\n",
        "        n_clusters = len(set(labels_dbscan)) - (1 if -1 in labels_dbscan else 0)\n",
        "        n_clusters_dbscan.append(n_clusters)\n",
        "        n_noise = list(labels_dbscan).count(-1)\n",
        "        noise_percentage = n_noise / len(labels_dbscan)\n",
        "        noise_percentages.append(noise_percentage)\n",
        "        if n_clusters > 1:\n",
        "            sil_score = silhouette_score(X_final, labels_dbscan)\n",
        "            if sil_score > mejor_silhouette:\n",
        "                mejpor_silhouette = sil_score\n",
        "                mejor_eps = eps\n",
        "                mejor_min_samples = min_samples\n",
        "                ruido_del_mejor = noise_percentage\n",
        "                n_cluster_del_mejor = n_clusters\n",
        "        else:\n",
        "            sil_score = -1\n",
        "        silhouette_scores_dbscan.append(sil_score)\n",
        "\n",
        "\n",
        "print(\"Mejor silhouette DBSCAN:\", max(silhouette_scores_dbscan))\n",
        "print(\"Ruido\", ruido_del_mejor)\n",
        "print(\"N clusters:\", n_cluster_del_mejor)\n",
        "print(\"Parametros eps y min_samples:\", round(mejor_eps, 2), mejor_min_samples)\n"
      ]
    },
    {
      "cell_type": "markdown",
      "id": "491c60f4",
      "metadata": {},
      "source": [
        "## 5) Aglomerativo Jerárquico\n",
        "**Objetivo:** probar distintas reglas de enlace y diferentes `k`.\n",
        "\n",
        "**Indicaciones específicas:**\n",
        "- Probar `linkage` en {`ward`, `complete`, `average`}.\n",
        "- Para cada `linkage`, probar `n_clusters` en 2..10.\n",
        "- Ajustar con `AgglomerativeClustering(n_clusters=k, linkage=..., metric='euclidean')`.\n",
        "- Obtener etiquetas con `.fit_predict(X_scaled)` o del atributo `.labels_`.\n",
        "- Calcular **Silhouette** y registrar los resultados en una tabla.\n",
        "- Elegir la pareja (linkage, k) final y justificar.\n",
        "\n",
        "> Recordatorio: `ward` requiere métrica euclídea (en scikit-learn es implícita). No hay `.predict()` para nuevos datos.\n"
      ]
    },
    {
      "cell_type": "code",
      "execution_count": 65,
      "id": "9b3cd2ab",
      "metadata": {
        "tags": [
          "student-cell"
        ]
      },
      "outputs": [
        {
          "data": {
            "image/png": "[encoded data removed]",
            "text/plain": [
              "<Figure size 1000x700 with 1 Axes>"
            ]
          },
          "metadata": {},
          "output_type": "display_data"
        },
        {
          "name": "stdout",
          "output_type": "stream",
          "text": [
            "Silhouette Agglomerative (ward, k=2): 0.48049391550433956\n"
          ]
        }
      ],
      "source": [
        "# TODO: Bucle Agglomerative: linkage en {'ward','complete','average'} y k=2..10\n",
        "# TODO: Calcular silhouette para cada combinación y elegir la mejor; obtener labels_agglom\n",
        "\n",
        "from scipy.cluster.hierarchy import linkage, dendrogram\n",
        "from sklearn.cluster import AgglomerativeClustering\n",
        "\n",
        "Z = linkage(X_final, method='ward')\n",
        "plt.figure(figsize=(10, 7))\n",
        "dendrogram(Z)\n",
        "plt.title('Dendrograma - Ward Linkage')\n",
        "plt.xlabel('Índices de muestras')\n",
        "plt.ylabel('Distancia')\n",
        "plt.show()\n",
        "\n",
        "agglo = AgglomerativeClustering(n_clusters=2, linkage='ward')\n",
        "labels_agglom = agglo.fit_predict(X_final)\n",
        "sil_score_agglo = silhouette_score(X_final, labels_agglom)\n",
        "print(\"Silhouette Agglomerative (ward, k=2):\", sil_score_agglo)"
      ]
    },
    {
      "cell_type": "markdown",
      "id": "572566be",
      "metadata": {},
      "source": [
        "## 6) Comparativa y Conclusión\n",
        "1. Resume en una **tabla** el **mejor** resultado de cada método (método, parámetros, silhouette, nº de clústeres y notas relevantes como % ruido en DBSCAN).\n",
        "2. Escribe una **conclusión de 8–12 líneas** justificando el **método ganador** para estos datos y por qué descartas las alternativas (forma de clústeres, sensibilidad a parámetros, presencia de ruido/outliers, etc.).\n"
      ]
    },
    {
      "cell_type": "code",
      "execution_count": 91,
      "id": "56be6e0d",
      "metadata": {
        "tags": [
          "student-cell"
        ]
      },
      "outputs": [
        {
          "name": "stdout",
          "output_type": "stream",
          "text": [
            "          Método                       Parámetros  Silhouette Score Ruido (%)\n",
            "0         KMeans                              k=3          0.480494         -\n",
            "1         DBSCAN  eps=1.7, k = 2 ,  min_samples=7          0.480494      0.0%\n",
            "2  Agglomerative                linkage=ward, k=2          0.480494         -\n"
          ]
        }
      ],
      "source": [
        "tabla_comparativa = pd.DataFrame({\n",
        "    'Método': ['KMeans', 'DBSCAN', 'Agglomerative'],\n",
        "    'Parámetros': ['k=3', f'eps={round(mejor_eps,2)}, k = {n_cluster_del_mejor} ,  min_samples={mejor_min_samples}', 'linkage=ward, k=2'],\n",
        "    'Silhouette Score': [max(silhouettes), max(silhouette_scores_dbscan), sil_score_agglo],\n",
        "    'Ruido (%)': ['-', f'{round(ruido_del_mejor*100,2)}%', '-']\n",
        "})\n",
        "\n",
        "print(tabla_comparativa)"
      ]
    },
    {
      "cell_type": "markdown",
      "id": "1e15fd33",
      "metadata": {},
      "source": [
        "### Conclusión\n",
        "\n",
        "Seleccionar un metodo en específico es complicado ya que los mejores modelos de cada metodo tiene la misma Silhouette score. Aun así el método ganador es DBSCAN debido a su capacidad para identificar la estructuras de los datos y manejar eficientemente el ruido. Aunque todos los métodos comparten el mismo Silhouette Score (0.480494), lo que me ha inclinado hacia el método DBSCAN es esta métrica con 0% de ruido, demostrando una agrupación más pura. K-Means y Agglomerative Clustering asumen clústeres esféricos y de tamaño similar, lo que puede forzar agrupaciones artificiales. Además, estos métodos no diferencian entre outliers y puntos válidos, incorporando potencialmente ruido en los clústeres. DBSCAN, en cambio, detecta automáticamente la densidad y separa el ruido, siendo más robusto ante agrupaciones menos estructurados o globulares. Su sensibilidad a parámetros como eps queda justificada aquí al encontrar una configuración óptima. Por ello, para estos datos, DBSCAN es superior en forma de clústeres y tratamiento de outliers."
      ]
    },
    {
      "cell_type": "markdown",
      "id": "9a9f54db",
      "metadata": {},
      "source": [
        "---\n",
        "## Tips rápidos\n",
        "- **Escala siempre** antes de ajustar los modelos.\n",
        "- Si la Silhouette es negativa o muy baja, revisa parámetros.\n",
        "- En DBSCAN, `eps` muy pequeño -> muchos ruidos; `eps` muy grande -> pocos clústeres (puede mezclarlo todo).\n",
        "- K-Means es sensible a outliers; DBSCAN puede marcarlos como ruido; el jerárquico con `complete` favorece clústeres compactos.\n",
        "- Documenta tus decisiones (por qué ese `k`, ese `eps`, ese `linkage`).\n"
      ]
    },
    {
      "cell_type": "markdown",
      "id": "40cb40bf",
      "metadata": {},
      "source": [
        "# BONUS EXTRA\n",
        "\n",
        "### Validación tramposa\n",
        "\n",
        "Usa la columna species para evaluar qué tan “puras” son las asignaciones del mejor modelo de cada método.\n",
        "\n",
        "Creando una matriz de confusión entre clúster y especie y sacando accuracy.\n",
        "\n",
        "Comenta usando distintos valores de eps y min_samples en DBSCAN.\n",
        "\n",
        "### Detección de anomalías con DBSCAN\n",
        "\n",
        "Con tu configuración de DBSCAN, analiza los puntos con label = -1 (ruido): ¿qué tienen en común (rangos extremos de masa, culmen, etc.)?\n",
        "\n",
        "Genera una tabla o un par de graficas (histogramas comparativos, por ejemplo) para ilustrar las diferencias entre los puntos de ruido y los puntos asignados a clústeres.\n"
      ]
    },
    {
      "cell_type": "markdown",
      "id": "871d787b",
      "metadata": {},
      "source": [
        "# DE AQUI PARA ABAJO NO CORREGIR LO HA HECHO LA IA LO DEJO PARA TENERLO COMO REFERENCIA, GRACIAS :)"
      ]
    },
    {
      "cell_type": "code",
      "execution_count": 97,
      "id": "fa7c6c4e",
      "metadata": {},
      "outputs": [
        {
          "name": "stdout",
          "output_type": "stream",
          "text": [
            "--- KMeans (k=2) ---\n",
            "N clusters (excl. ruido): 2\n",
            "Purity (sum majority / N): 0.7958\n",
            "Mapped accuracy (cluster -> majority species): 0.7958\n",
            "Cluster -> especie mayoritaria: {0: 'Adelie', 1: 'Gentoo'}\n",
            "Matriz de confusión (species x cluster):\n"
          ]
        },
        {
          "data": {
            "application/vnd.microsoft.datawrangler.viewer.v0+json": {
              "columns": [
                {
                  "name": "species",
                  "rawType": "object",
                  "type": "string"
                },
                {
                  "name": "0",
                  "rawType": "int64",
                  "type": "integer"
                },
                {
                  "name": "1",
                  "rawType": "int64",
                  "type": "integer"
                }
              ],
              "ref": "2591ecb9-1d32-44d2-bea5-e551d4f7f067",
              "rows": [
                [
                  "Adelie",
                  "146",
                  "0"
                ],
                [
                  "Chinstrap",
                  "68",
                  "0"
                ],
                [
                  "Gentoo",
                  "0",
                  "119"
                ]
              ],
              "shape": {
                "columns": 2,
                "rows": 3
              }
            },
            "text/html": [
              "<div>\n",
              "<style scoped>\n",
              "    .dataframe tbody tr th:only-of-type {\n",
              "        vertical-align: middle;\n",
              "    }\n",
              "\n",
              "    .dataframe tbody tr th {\n",
              "        vertical-align: top;\n",
              "    }\n",
              "\n",
              "    .dataframe thead th {\n",
              "        text-align: right;\n",
              "    }\n",
              "</style>\n",
              "<table border=\"1\" class=\"dataframe\">\n",
              "  <thead>\n",
              "    <tr style=\"text-align: right;\">\n",
              "      <th>cluster</th>\n",
              "      <th>0</th>\n",
              "      <th>1</th>\n",
              "    </tr>\n",
              "    <tr>\n",
              "      <th>species</th>\n",
              "      <th></th>\n",
              "      <th></th>\n",
              "    </tr>\n",
              "  </thead>\n",
              "  <tbody>\n",
              "    <tr>\n",
              "      <th>Adelie</th>\n",
              "      <td>146</td>\n",
              "      <td>0</td>\n",
              "    </tr>\n",
              "    <tr>\n",
              "      <th>Chinstrap</th>\n",
              "      <td>68</td>\n",
              "      <td>0</td>\n",
              "    </tr>\n",
              "    <tr>\n",
              "      <th>Gentoo</th>\n",
              "      <td>0</td>\n",
              "      <td>119</td>\n",
              "    </tr>\n",
              "  </tbody>\n",
              "</table>\n",
              "</div>"
            ],
            "text/plain": [
              "cluster      0    1\n",
              "species            \n",
              "Adelie     146    0\n",
              "Chinstrap   68    0\n",
              "Gentoo       0  119"
            ]
          },
          "metadata": {},
          "output_type": "display_data"
        },
        {
          "name": "stdout",
          "output_type": "stream",
          "text": [
            "\n",
            "\n",
            "--- DBSCAN (eps=1.7000000000000002, min_samples=7) ---\n",
            "N clusters (excl. ruido): 2\n",
            "Purity (sum majority / N): 0.7958\n",
            "Mapped accuracy (cluster -> majority species): 0.7958\n",
            "Cluster -> especie mayoritaria: {0: 'Adelie', 1: 'Gentoo'}\n",
            "Matriz de confusión (species x cluster):\n"
          ]
        },
        {
          "data": {
            "application/vnd.microsoft.datawrangler.viewer.v0+json": {
              "columns": [
                {
                  "name": "species",
                  "rawType": "object",
                  "type": "string"
                },
                {
                  "name": "0",
                  "rawType": "int64",
                  "type": "integer"
                },
                {
                  "name": "1",
                  "rawType": "int64",
                  "type": "integer"
                }
              ],
              "ref": "fce08c41-97e6-45eb-9723-94fb2ef21001",
              "rows": [
                [
                  "Adelie",
                  "146",
                  "0"
                ],
                [
                  "Chinstrap",
                  "68",
                  "0"
                ],
                [
                  "Gentoo",
                  "0",
                  "119"
                ]
              ],
              "shape": {
                "columns": 2,
                "rows": 3
              }
            },
            "text/html": [
              "<div>\n",
              "<style scoped>\n",
              "    .dataframe tbody tr th:only-of-type {\n",
              "        vertical-align: middle;\n",
              "    }\n",
              "\n",
              "    .dataframe tbody tr th {\n",
              "        vertical-align: top;\n",
              "    }\n",
              "\n",
              "    .dataframe thead th {\n",
              "        text-align: right;\n",
              "    }\n",
              "</style>\n",
              "<table border=\"1\" class=\"dataframe\">\n",
              "  <thead>\n",
              "    <tr style=\"text-align: right;\">\n",
              "      <th>cluster</th>\n",
              "      <th>0</th>\n",
              "      <th>1</th>\n",
              "    </tr>\n",
              "    <tr>\n",
              "      <th>species</th>\n",
              "      <th></th>\n",
              "      <th></th>\n",
              "    </tr>\n",
              "  </thead>\n",
              "  <tbody>\n",
              "    <tr>\n",
              "      <th>Adelie</th>\n",
              "      <td>146</td>\n",
              "      <td>0</td>\n",
              "    </tr>\n",
              "    <tr>\n",
              "      <th>Chinstrap</th>\n",
              "      <td>68</td>\n",
              "      <td>0</td>\n",
              "    </tr>\n",
              "    <tr>\n",
              "      <th>Gentoo</th>\n",
              "      <td>0</td>\n",
              "      <td>119</td>\n",
              "    </tr>\n",
              "  </tbody>\n",
              "</table>\n",
              "</div>"
            ],
            "text/plain": [
              "cluster      0    1\n",
              "species            \n",
              "Adelie     146    0\n",
              "Chinstrap   68    0\n",
              "Gentoo       0  119"
            ]
          },
          "metadata": {},
          "output_type": "display_data"
        },
        {
          "name": "stdout",
          "output_type": "stream",
          "text": [
            "\n",
            "\n",
            "--- Agglomerative (linkage=ward, k=2) ---\n",
            "N clusters (excl. ruido): 2\n",
            "Purity (sum majority / N): 0.7958\n",
            "Mapped accuracy (cluster -> majority species): 0.7958\n",
            "Cluster -> especie mayoritaria: {0: 'Adelie', 1: 'Gentoo'}\n",
            "Matriz de confusión (species x cluster):\n"
          ]
        },
        {
          "data": {
            "application/vnd.microsoft.datawrangler.viewer.v0+json": {
              "columns": [
                {
                  "name": "species",
                  "rawType": "object",
                  "type": "string"
                },
                {
                  "name": "0",
                  "rawType": "int64",
                  "type": "integer"
                },
                {
                  "name": "1",
                  "rawType": "int64",
                  "type": "integer"
                }
              ],
              "ref": "46615e7b-6468-4e9e-b3c9-e43e8a24ac4a",
              "rows": [
                [
                  "Adelie",
                  "146",
                  "0"
                ],
                [
                  "Chinstrap",
                  "68",
                  "0"
                ],
                [
                  "Gentoo",
                  "0",
                  "119"
                ]
              ],
              "shape": {
                "columns": 2,
                "rows": 3
              }
            },
            "text/html": [
              "<div>\n",
              "<style scoped>\n",
              "    .dataframe tbody tr th:only-of-type {\n",
              "        vertical-align: middle;\n",
              "    }\n",
              "\n",
              "    .dataframe tbody tr th {\n",
              "        vertical-align: top;\n",
              "    }\n",
              "\n",
              "    .dataframe thead th {\n",
              "        text-align: right;\n",
              "    }\n",
              "</style>\n",
              "<table border=\"1\" class=\"dataframe\">\n",
              "  <thead>\n",
              "    <tr style=\"text-align: right;\">\n",
              "      <th>cluster</th>\n",
              "      <th>0</th>\n",
              "      <th>1</th>\n",
              "    </tr>\n",
              "    <tr>\n",
              "      <th>species</th>\n",
              "      <th></th>\n",
              "      <th></th>\n",
              "    </tr>\n",
              "  </thead>\n",
              "  <tbody>\n",
              "    <tr>\n",
              "      <th>Adelie</th>\n",
              "      <td>146</td>\n",
              "      <td>0</td>\n",
              "    </tr>\n",
              "    <tr>\n",
              "      <th>Chinstrap</th>\n",
              "      <td>68</td>\n",
              "      <td>0</td>\n",
              "    </tr>\n",
              "    <tr>\n",
              "      <th>Gentoo</th>\n",
              "      <td>0</td>\n",
              "      <td>119</td>\n",
              "    </tr>\n",
              "  </tbody>\n",
              "</table>\n",
              "</div>"
            ],
            "text/plain": [
              "cluster      0    1\n",
              "species            \n",
              "Adelie     146    0\n",
              "Chinstrap   68    0\n",
              "Gentoo       0  119"
            ]
          },
          "metadata": {},
          "output_type": "display_data"
        },
        {
          "name": "stdout",
          "output_type": "stream",
          "text": [
            "\n",
            "\n"
          ]
        }
      ],
      "source": [
        "from sklearn.metrics import accuracy_score\n",
        "\n",
        "# Evaluar \"pureza\" de asignaciones vs columna species\n",
        "\n",
        "def cluster_purity_report(y_true, clusters):\n",
        "    y_ser = pd.Series(y_true).reset_index(drop=True)\n",
        "    cl_ser = pd.Series(clusters).reset_index(drop=True)\n",
        "    conf = pd.crosstab(y_ser, cl_ser, rownames=['species'], colnames=['cluster'])\n",
        "    # mapping cluster -> species mayoritaria\n",
        "    mapping = conf.idxmax(axis=0).to_dict()  # {cluster: species}\n",
        "    # etiquetas mapeadas según la mayoría del clúster\n",
        "    mapped = cl_ser.map(mapping)\n",
        "    purity = (conf.max(axis=0).sum()) / len(y_ser)\n",
        "    n_clusters = len(set(cl_ser)) - (1 if -1 in set(cl_ser) else 0)\n",
        "    return {\n",
        "        'confusion': conf,\n",
        "        'mapping': mapping,\n",
        "        'purity': purity,\n",
        "        'n_clusters': n_clusters,\n",
        "        'mapped_accuracy': accuracy_score(y_ser, mapped)\n",
        "    }\n",
        "\n",
        "# 1) KMeans: elegir k con mejor silhouette calculado antes\n",
        "best_k = int(list(K_range)[np.argmax(silhouettes)])\n",
        "kmeans_best = KMeans(n_clusters=best_k, random_state=random_state).fit(X_final)\n",
        "labels_km = kmeans_best.labels_\n",
        "report_km = cluster_purity_report(y.values, labels_km)\n",
        "\n",
        "# 2) DBSCAN: usar la mejor combinación encontrada (mejor_eps, mejor_min_samples)\n",
        "dbscan_best = DBSCAN(eps=float(mejor_eps), min_samples=int(mejor_min_samples)).fit(X_final)\n",
        "labels_db = dbscan_best.labels_\n",
        "report_db = cluster_purity_report(y.values, labels_db)\n",
        "\n",
        "# 3) Agglomerative: usar labels_agglom ya calculadas (ward, k=2 en este notebook)\n",
        "report_ag = cluster_purity_report(y.values, labels_agglom)\n",
        "\n",
        "# Mostrar resultados resumidos\n",
        "for name, rpt, params in [\n",
        "    ('KMeans', report_km, f'k={best_k}'),\n",
        "    ('DBSCAN', report_db, f'eps={mejor_eps}, min_samples={mejor_min_samples}'),\n",
        "    ('Agglomerative', report_ag, 'linkage=ward, k=2'),\n",
        "]:\n",
        "    print(f'--- {name} ({params}) ---')\n",
        "    print('N clusters (excl. ruido):', rpt['n_clusters'])\n",
        "    print('Purity (sum majority / N):', round(rpt['purity'], 4))\n",
        "    print('Mapped accuracy (cluster -> majority species):', round(rpt['mapped_accuracy'], 4))\n",
        "    print('Cluster -> especie mayoritaria:', rpt['mapping'])\n",
        "    print('Matriz de confusión (species x cluster):')\n",
        "    display(rpt['confusion'])\n",
        "    print('\\n')"
      ]
    },
    {
      "cell_type": "code",
      "execution_count": 98,
      "id": "9a1410d5",
      "metadata": {},
      "outputs": [
        {
          "name": "stdout",
          "output_type": "stream",
          "text": [
            "DBSCAN (eps=1.7000000000000002, min_samples=7): 0 puntos de ruido de 333 (0.00%)\n",
            "\n",
            "Estadísticos por etiqueta (incluye -1 si existe):\n"
          ]
        },
        {
          "data": {
            "application/vnd.microsoft.datawrangler.viewer.v0+json": {
              "columns": [
                {
                  "name": "dbscan_label",
                  "rawType": "int64",
                  "type": "integer"
                },
                {
                  "name": "('bill_length_mm', 'count')",
                  "rawType": "int64",
                  "type": "integer"
                },
                {
                  "name": "('bill_length_mm', 'mean')",
                  "rawType": "float64",
                  "type": "float"
                },
                {
                  "name": "('bill_length_mm', 'median')",
                  "rawType": "float64",
                  "type": "float"
                },
                {
                  "name": "('bill_length_mm', 'std')",
                  "rawType": "float64",
                  "type": "float"
                },
                {
                  "name": "('bill_length_mm', 'min')",
                  "rawType": "float64",
                  "type": "float"
                },
                {
                  "name": "('bill_length_mm', 'max')",
                  "rawType": "float64",
                  "type": "float"
                },
                {
                  "name": "('bill_depth_mm', 'count')",
                  "rawType": "int64",
                  "type": "integer"
                },
                {
                  "name": "('bill_depth_mm', 'mean')",
                  "rawType": "float64",
                  "type": "float"
                },
                {
                  "name": "('bill_depth_mm', 'median')",
                  "rawType": "float64",
                  "type": "float"
                },
                {
                  "name": "('bill_depth_mm', 'std')",
                  "rawType": "float64",
                  "type": "float"
                },
                {
                  "name": "('bill_depth_mm', 'min')",
                  "rawType": "float64",
                  "type": "float"
                },
                {
                  "name": "('bill_depth_mm', 'max')",
                  "rawType": "float64",
                  "type": "float"
                },
                {
                  "name": "('flipper_length_mm', 'count')",
                  "rawType": "int64",
                  "type": "integer"
                },
                {
                  "name": "('flipper_length_mm', 'mean')",
                  "rawType": "float64",
                  "type": "float"
                },
                {
                  "name": "('flipper_length_mm', 'median')",
                  "rawType": "float64",
                  "type": "float"
                },
                {
                  "name": "('flipper_length_mm', 'std')",
                  "rawType": "float64",
                  "type": "float"
                },
                {
                  "name": "('flipper_length_mm', 'min')",
                  "rawType": "float64",
                  "type": "float"
                },
                {
                  "name": "('flipper_length_mm', 'max')",
                  "rawType": "float64",
                  "type": "float"
                },
                {
                  "name": "('body_mass_g', 'count')",
                  "rawType": "int64",
                  "type": "integer"
                },
                {
                  "name": "('body_mass_g', 'mean')",
                  "rawType": "float64",
                  "type": "float"
                },
                {
                  "name": "('body_mass_g', 'median')",
                  "rawType": "float64",
                  "type": "float"
                },
                {
                  "name": "('body_mass_g', 'std')",
                  "rawType": "float64",
                  "type": "float"
                },
                {
                  "name": "('body_mass_g', 'min')",
                  "rawType": "float64",
                  "type": "float"
                },
                {
                  "name": "('body_mass_g', 'max')",
                  "rawType": "float64",
                  "type": "float"
                }
              ],
              "ref": "8a41db32-4f0f-4bc5-adf6-e1f5f620d8f4",
              "rows": [
                [
                  "0",
                  "333",
                  "43.99279279279279",
                  "44.5",
                  "5.4686683426475575",
                  "32.1",
                  "59.6",
                  "333",
                  "17.164864864864864",
                  "17.3",
                  "1.9692354633199012",
                  "13.1",
                  "21.5",
                  "333",
                  "200.96696696696696",
                  "197.0",
                  "14.015765288287916",
                  "172.0",
                  "231.0",
                  "333",
                  "4207.057057057057",
                  "4050.0",
                  "805.2158019428971",
                  "2700.0",
                  "6300.0"
                ]
              ],
              "shape": {
                "columns": 24,
                "rows": 1
              }
            },
            "text/html": [
              "<div>\n",
              "<style scoped>\n",
              "    .dataframe tbody tr th:only-of-type {\n",
              "        vertical-align: middle;\n",
              "    }\n",
              "\n",
              "    .dataframe tbody tr th {\n",
              "        vertical-align: top;\n",
              "    }\n",
              "\n",
              "    .dataframe thead tr th {\n",
              "        text-align: left;\n",
              "    }\n",
              "\n",
              "    .dataframe thead tr:last-of-type th {\n",
              "        text-align: right;\n",
              "    }\n",
              "</style>\n",
              "<table border=\"1\" class=\"dataframe\">\n",
              "  <thead>\n",
              "    <tr>\n",
              "      <th></th>\n",
              "      <th colspan=\"6\" halign=\"left\">bill_length_mm</th>\n",
              "      <th colspan=\"4\" halign=\"left\">bill_depth_mm</th>\n",
              "      <th>...</th>\n",
              "      <th colspan=\"4\" halign=\"left\">flipper_length_mm</th>\n",
              "      <th colspan=\"6\" halign=\"left\">body_mass_g</th>\n",
              "    </tr>\n",
              "    <tr>\n",
              "      <th></th>\n",
              "      <th>count</th>\n",
              "      <th>mean</th>\n",
              "      <th>median</th>\n",
              "      <th>std</th>\n",
              "      <th>min</th>\n",
              "      <th>max</th>\n",
              "      <th>count</th>\n",
              "      <th>mean</th>\n",
              "      <th>median</th>\n",
              "      <th>std</th>\n",
              "      <th>...</th>\n",
              "      <th>median</th>\n",
              "      <th>std</th>\n",
              "      <th>min</th>\n",
              "      <th>max</th>\n",
              "      <th>count</th>\n",
              "      <th>mean</th>\n",
              "      <th>median</th>\n",
              "      <th>std</th>\n",
              "      <th>min</th>\n",
              "      <th>max</th>\n",
              "    </tr>\n",
              "    <tr>\n",
              "      <th>dbscan_label</th>\n",
              "      <th></th>\n",
              "      <th></th>\n",
              "      <th></th>\n",
              "      <th></th>\n",
              "      <th></th>\n",
              "      <th></th>\n",
              "      <th></th>\n",
              "      <th></th>\n",
              "      <th></th>\n",
              "      <th></th>\n",
              "      <th></th>\n",
              "      <th></th>\n",
              "      <th></th>\n",
              "      <th></th>\n",
              "      <th></th>\n",
              "      <th></th>\n",
              "      <th></th>\n",
              "      <th></th>\n",
              "      <th></th>\n",
              "      <th></th>\n",
              "      <th></th>\n",
              "    </tr>\n",
              "  </thead>\n",
              "  <tbody>\n",
              "    <tr>\n",
              "      <th>0</th>\n",
              "      <td>333</td>\n",
              "      <td>43.992793</td>\n",
              "      <td>44.5</td>\n",
              "      <td>5.468668</td>\n",
              "      <td>32.1</td>\n",
              "      <td>59.6</td>\n",
              "      <td>333</td>\n",
              "      <td>17.164865</td>\n",
              "      <td>17.3</td>\n",
              "      <td>1.969235</td>\n",
              "      <td>...</td>\n",
              "      <td>197.0</td>\n",
              "      <td>14.015765</td>\n",
              "      <td>172.0</td>\n",
              "      <td>231.0</td>\n",
              "      <td>333</td>\n",
              "      <td>4207.057057</td>\n",
              "      <td>4050.0</td>\n",
              "      <td>805.215802</td>\n",
              "      <td>2700.0</td>\n",
              "      <td>6300.0</td>\n",
              "    </tr>\n",
              "  </tbody>\n",
              "</table>\n",
              "<p>1 rows × 24 columns</p>\n",
              "</div>"
            ],
            "text/plain": [
              "             bill_length_mm                                          \\\n",
              "                      count       mean median       std   min   max   \n",
              "dbscan_label                                                          \n",
              "0                       333  43.992793   44.5  5.468668  32.1  59.6   \n",
              "\n",
              "             bill_depth_mm                              ... flipper_length_mm  \\\n",
              "                     count       mean median       std  ...            median   \n",
              "dbscan_label                                            ...                     \n",
              "0                      333  17.164865   17.3  1.969235  ...             197.0   \n",
              "\n",
              "                                      body_mass_g                       \\\n",
              "                    std    min    max       count         mean  median   \n",
              "dbscan_label                                                             \n",
              "0             14.015765  172.0  231.0         333  4207.057057  4050.0   \n",
              "\n",
              "                                          \n",
              "                     std     min     max  \n",
              "dbscan_label                              \n",
              "0             805.215802  2700.0  6300.0  \n",
              "\n",
              "[1 rows x 24 columns]"
            ]
          },
          "metadata": {},
          "output_type": "display_data"
        },
        {
          "name": "stdout",
          "output_type": "stream",
          "text": [
            "\n",
            "No se detectaron puntos con label=-1. Se comparan ahora puntos 'core' vs 'border' según DBSCAN:\n"
          ]
        },
        {
          "data": {
            "image/png": "[encoded data removed]",
            "text/plain": [
              "<Figure size 1000x800 with 4 Axes>"
            ]
          },
          "metadata": {},
          "output_type": "display_data"
        },
        {
          "data": {
            "image/png": "[encoded data removed]",
            "text/plain": [
              "<Figure size 700x600 with 1 Axes>"
            ]
          },
          "metadata": {},
          "output_type": "display_data"
        },
        {
          "name": "stdout",
          "output_type": "stream",
          "text": [
            "\n",
            "Observaciones rápidas:\n",
            " - Con la configuración seleccionada no hay puntos etiquetados como ruido.\n",
            " - Hay 332 puntos core y 1 border; revisar histrogramas para diferencias en rangos extremos.\n"
          ]
        }
      ],
      "source": [
        "import math\n",
        "\n",
        "# Análisis de puntos etiquetados como ruido por la configuración de DBSCAN seleccionada\n",
        "# (usa variables ya definidas en el notebook: X_numericas, labels_dbscan, dbscan_best, mejor_eps, mejor_min_samples)\n",
        "\n",
        "cols = X_numericas.columns.tolist()\n",
        "df_noise = X_numericas.reset_index(drop=True).copy()\n",
        "df_noise['dbscan_label'] = labels_dbscan  # labels_dbscan ya existe en el notebook\n",
        "\n",
        "# Resumen rápido\n",
        "n_total = len(df_noise)\n",
        "n_noise = (df_noise['dbscan_label'] == -1).sum()\n",
        "pct_noise = n_noise / n_total\n",
        "\n",
        "print(f\"DBSCAN (eps={mejor_eps}, min_samples={mejor_min_samples}): {n_noise} puntos de ruido de {n_total} ({pct_noise:.2%})\")\n",
        "\n",
        "# Si hay core/border info disponible, crear máscaras\n",
        "core_mask = None\n",
        "border_mask = None\n",
        "if 'dbscan_best' in globals() and hasattr(dbscan_best, 'core_sample_indices_'):\n",
        "    core_mask = np.zeros(n_total, dtype=bool)\n",
        "    core_mask[dbscan_best.core_sample_indices_] = True\n",
        "    border_mask = (~core_mask) & (df_noise['dbscan_label'] != -1)\n",
        "\n",
        "# Tabla descriptiva comparando ruido vs no-ruido (o core/border si no hay ruido)\n",
        "group_key = 'dbscan_label'\n",
        "agg_funcs = ['count', 'mean', 'median', 'std', 'min', 'max']\n",
        "\n",
        "print(\"\\nEstadísticos por etiqueta (incluye -1 si existe):\")\n",
        "display(df_noise.groupby(group_key)[cols].agg(agg_funcs))\n",
        "\n",
        "# Si no hay ruido, comparar core vs border (si existe), sino comparar clusters\n",
        "if n_noise == 0:\n",
        "    if core_mask is not None:\n",
        "        print(\"\\nNo se detectaron puntos con label=-1. Se comparan ahora puntos 'core' vs 'border' según DBSCAN:\")\n",
        "        groups = {\n",
        "            'core': df_noise[core_mask],\n",
        "            'border': df_noise[border_mask]\n",
        "        }\n",
        "    else:\n",
        "        # Agrupar por etiquetas disponibles (por ejemplo 0 vs 1)\n",
        "        unique_labels = sorted(df_noise['dbscan_label'].unique())\n",
        "        print(f\"\\nNo se detectaron puntos con label=-1 y no hay información de core samples; comparar etiquetas: {unique_labels}\")\n",
        "        groups = {str(lbl): df_noise[df_noise['dbscan_label'] == lbl] for lbl in unique_labels}\n",
        "else:\n",
        "    groups = {\n",
        "        'clustered': df_noise[df_noise['dbscan_label'] != -1],\n",
        "        'noise': df_noise[df_noise['dbscan_label'] == -1]\n",
        "    }\n",
        "\n",
        "\n",
        "# Generar histogramas comparativos para las variables numéricas principales\n",
        "nvars = len(cols)\n",
        "ncols_plot = 2\n",
        "nrows_plot = math.ceil(nvars / ncols_plot)\n",
        "plt.figure(figsize=(10, 4 * nrows_plot))\n",
        "for i, col in enumerate(cols, 1):\n",
        "    plt.subplot(nrows_plot, ncols_plot, i)\n",
        "    for name, gdf in groups.items():\n",
        "        if gdf.shape[0] == 0:\n",
        "            continue\n",
        "        plt.hist(gdf[col], bins=30, alpha=0.6, label=f\"{name} (n={len(gdf)})\", density=False)\n",
        "    plt.xlabel(col)\n",
        "    plt.ylabel('Frecuencia')\n",
        "    plt.title(f'Distribución de {col}')\n",
        "    plt.legend()\n",
        "plt.tight_layout()\n",
        "plt.show()\n",
        "\n",
        "# Scatter comparativo bill_length_mm vs body_mass_g (muestra si hay diferencias en extremos)\n",
        "plt.figure(figsize=(7,6))\n",
        "colors = { -1: 'red' }\n",
        "unique = sorted(df_noise['dbscan_label'].unique())\n",
        "palette = plt.cm.tab10\n",
        "for idx, lbl in enumerate(unique):\n",
        "    mask = df_noise['dbscan_label'] == lbl\n",
        "    lbl_name = f\"label={lbl}\"\n",
        "    plt.scatter(df_noise.loc[mask, 'bill_length_mm'], df_noise.loc[mask, 'body_mass_g'],\n",
        "                s=20, alpha=0.7,\n",
        "                color=colors.get(lbl, palette(idx % 10)),\n",
        "                label=lbl_name)\n",
        "plt.xlabel('bill_length_mm')\n",
        "plt.ylabel('body_mass_g')\n",
        "plt.title('bill_length_mm vs body_mass_g por etiqueta DBSCAN')\n",
        "plt.legend()\n",
        "plt.show()\n",
        "\n",
        "# Conclusión rápida imprimible (automática)\n",
        "print(\"\\nObservaciones rápidas:\")\n",
        "if n_noise == 0:\n",
        "    print(\" - Con la configuración seleccionada no hay puntos etiquetados como ruido.\")\n",
        "    if core_mask is not None:\n",
        "        print(f\" - Hay {core_mask.sum()} puntos core y {border_mask.sum()} border; revisar histrogramas para diferencias en rangos extremos.\")\n",
        "    else:\n",
        "        print(\" - Se muestran comparaciones entre las etiquetas encontradas por DBSCAN.\")\n",
        "else:\n",
        "    print(\" - Los puntos marcados como ruido tienden a mostrar valores extremos en las siguientes variables (ver histogramas):\")\n",
        "    print(\"   \", \", \".join(cols))\n",
        "    # además, mostrar estadísticos resumidos para ruido\n",
        "    display(df_noise[df_noise['dbscan_label'] == -1][cols].describe())"
      ]
    }
  ],
  "metadata": {
    "created": "2025-10-17T10:56:23.151465Z",
    "kernelspec": {
      "display_name": "ML_env",
      "language": "python",
      "name": "python3"
    },
    "language_info": {
      "codemirror_mode": {
        "name": "ipython",
        "version": 3
      },
      "file_extension": ".py",
      "mimetype": "text/x-python",
      "name": "python",
      "nbconvert_exporter": "python",
      "pygments_lexer": "ipython3",
      "version": "3.13.7"
    }
  },
  "nbformat": 4,
  "nbformat_minor": 5
}
